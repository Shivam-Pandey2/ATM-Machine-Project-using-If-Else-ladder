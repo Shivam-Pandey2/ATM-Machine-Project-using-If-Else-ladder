{
  "nbformat": 4,
  "nbformat_minor": 0,
  "metadata": {
    "colab": {
      "provenance": [],
      "authorship_tag": "ABX9TyP3Paopl0SoSgzDS5r3GxiH",
      "include_colab_link": true
    },
    "kernelspec": {
      "name": "python3",
      "display_name": "Python 3"
    },
    "language_info": {
      "name": "python"
    }
  },
  "cells": [
    {
      "cell_type": "markdown",
      "metadata": {
        "id": "view-in-github",
        "colab_type": "text"
      },
      "source": [
        "<a href=\"https://colab.research.google.com/github/shivam887423/ATM-Machine-Project-using-If-Else-ladder/blob/main/ab_cat.ipynb\" target=\"_parent\"><img src=\"https://colab.research.google.com/assets/colab-badge.svg\" alt=\"Open In Colab\"/></a>"
      ]
    },
    {
      "cell_type": "code",
      "source": [
        "from collections import Counter\n",
        "\n",
        "def find_mode(data):\n",
        "    counter = Counter(data)\n",
        "    modes = counter.most_common()\n",
        "    \n",
        "    if modes[0][1] == 1:  # No mode found\n",
        "        return ['No MODE Found']\n",
        "    \n",
        "    mode_values = [str(mode[0]) for mode in modes if mode[1] == modes[0][1]]\n",
        "    mode_values.sort()  # Sort the mode values\n",
        "    \n",
        "    return mode_values\n",
        "\n",
        "# Reading input\n",
        "T = int(input())  # Number of test cases\n",
        "\n",
        "for _ in range(T):\n",
        "    dataset = list(map(float, input().split()))  # Input dataset\n",
        "    result = find_mode(dataset)\n",
        "    for mode in result:\n",
        "        print(mode)\n",
        "        "
      ],
      "metadata": {
        "id": "1tfbzvjm5eFn",
        "outputId": "ba51184f-05ad-4428-ca5f-ad1c62ee5828",
        "colab": {
          "base_uri": "https://localhost:8080/"
        }
      },
      "execution_count": 6,
      "outputs": [
        {
          "output_type": "stream",
          "name": "stdout",
          "text": [
            "2\n",
            "1.22 4.44 3.44 4.44 1.22\n",
            "1.22\n",
            "4.44\n",
            "5.78 6.867 6.98 6.98 \n",
            "6.98\n"
          ]
        }
      ]
    },
    {
      "cell_type": "code",
      "source": [
        "def remove_duplicates(string):\n",
        "    # Create an empty set to store unique characters\n",
        "    unique_chars = set()\n",
        "    \n",
        "    # Iterate through the string\n",
        "    result = \"\"\n",
        "    for char in string:\n",
        "        # Check if the character is already in the set\n",
        "        if char not in unique_chars:\n",
        "            # Add the character to the set and result string\n",
        "            unique_chars.add(char)\n",
        "            result += char\n",
        "    \n",
        "    return result\n",
        "\n",
        "# Main program\n",
        "if __name__ == '__main__':\n",
        "    # Read the input string\n",
        "    input_string = input()\n",
        "    \n",
        "    # Call the function to remove duplicates and print the modified string\n",
        "    modified_string = remove_duplicates(input_string)\n",
        "    print(modified_string)\n"
      ],
      "metadata": {
        "id": "sQUrRuA06Kjd",
        "outputId": "08e0f04e-a160-4aa3-8aa3-668d628abff7",
        "colab": {
          "base_uri": "https://localhost:8080/"
        }
      },
      "execution_count": 9,
      "outputs": [
        {
          "output_type": "stream",
          "name": "stdout",
          "text": [
            "muralishankar\n",
            "muralishnk\n"
          ]
        }
      ]
    },
    {
      "cell_type": "code",
      "source": [
        "def remove_duplicates(string):\n",
        "    # Create an empty string to store the modified string\n",
        "    modified_string = \"\"\n",
        "\n",
        "    # Iterate through the characters of the string\n",
        "    for char in string:\n",
        "        # Check if the character is not already present in the modified string\n",
        "        if char not in modified_string:\n",
        "            # Add the character to the modified string\n",
        "            modified_string += char\n",
        "\n",
        "    return modified_string\n",
        "\n",
        "# Main program\n",
        "if __name__ == '__main__':\n",
        "    # Read the input string\n",
        "    input_string = input(\"Enter a string: \")\n",
        "\n",
        "    # Call the function to remove duplicates and print the modified string\n",
        "    modified_string = remove_duplicates(input_string)\n",
        "    print(\"Modified string:\", modified_string)\n"
      ],
      "metadata": {
        "id": "p8qIsfSk7gJg",
        "outputId": "74ac3349-a70d-4a5e-8f23-b8a4fe50100a",
        "colab": {
          "base_uri": "https://localhost:8080/"
        }
      },
      "execution_count": 10,
      "outputs": [
        {
          "output_type": "stream",
          "name": "stdout",
          "text": [
            "Enter a string: muralishankar\n",
            "Modified string: muralishnk\n"
          ]
        }
      ]
    },
    {
      "cell_type": "code",
      "source": [
        "# Function to compare the input with A1 and determine if they have the same elements\n",
        "def compare_input_with_a1(input_elements):\n",
        "    a1_elements = [\"QTP\", \"Selenium\", \"Protractor\"]  # Elements of A1\n",
        "\n",
        "    # Convert the input and A1 elements to sets\n",
        "    input_set = set(input_elements)\n",
        "    a1_set = set(a1_elements)\n",
        "\n",
        "    # Check if the sets are equal\n",
        "    if input_set == a1_set:\n",
        "        return \"Match\"\n",
        "    else:\n",
        "        return \"Not Match\"\n",
        "\n",
        "# Main program\n",
        "if __name__ == '__main__':\n",
        "    # Read the input elements\n",
        "    input_elements = input().split(\", \")\n",
        "\n",
        "    # Call the function to compare the input with A1 and print the output\n",
        "    output = compare_input_with_a1(input_elements)\n",
        "    print(output)\n"
      ],
      "metadata": {
        "id": "fa8NfLpW_Ef-",
        "outputId": "b107c075-340a-4e64-b263-00205d172b59",
        "colab": {
          "base_uri": "https://localhost:8080/"
        }
      },
      "execution_count": 21,
      "outputs": [
        {
          "output_type": "stream",
          "name": "stdout",
          "text": [
            "Puppeteer, Tosca, Selenium\n",
            "Not Match\n"
          ]
        }
      ]
    },
    {
      "cell_type": "code",
      "source": [
        "# Function to compare the input with A1 and determine if they have the same elements\n",
        "def compare_input_with_a1(input_elements, a1_elements):\n",
        "    # Convert the input and A1 elements to sets\n",
        "    input_set = set(input_elements)\n",
        "    a1_set = set(a1_elements)\n",
        "\n",
        "    # Check if the sets are equal\n",
        "    if input_set == a1_set:\n",
        "        return \"Match\"\n",
        "    else:\n",
        "        return \"Not Match\"\n",
        "\n",
        "# Main program\n",
        "if __name__ == '__main__':\n",
        "    # Read the elements of A1\n",
        "    a1_string = input(\"Enter the elements of A1 separated by commas: \")\n",
        "    a1_elements = a1_string.split(\", \")\n",
        "\n",
        "    # Read the input elements\n",
        "    input_string = input(\"Enter the input elements separated by commas: \")\n",
        "    input_elements = input_string.split(\", \")\n",
        "\n",
        "    # Call the function to compare the input with A1 and print the output\n",
        "    output = compare_input_with_a1(input_elements, a1_elements)\n",
        "    print(output)\n"
      ],
      "metadata": {
        "id": "kg8xCYAoAufP",
        "outputId": "2d16bc6c-7394-4cfe-e6b1-02b499eed37e",
        "colab": {
          "base_uri": "https://localhost:8080/"
        }
      },
      "execution_count": 23,
      "outputs": [
        {
          "output_type": "stream",
          "name": "stdout",
          "text": [
            "Enter the elements of A1 separated by commas: SHI, VAM, MAN\n",
            "Enter the input elements separated by commas: AHS,SHS,SFS\n",
            "Not Match\n"
          ]
        }
      ]
    },
    {
      "cell_type": "code",
      "source": [
        "\n",
        "# Function to find all N-lettered words in a sentence\n",
        "def find_n_lettered_words(sentence, n):\n",
        "    # Split the sentence into words\n",
        "    words = sentence.split()\n",
        "\n",
        "    # If number of words in the sentence is less than 3, print error message and return\n",
        "    if len(words) < 3:\n",
        "        print(\"Too Less Number of Words Entered\")\n",
        "        return\n",
        "\n",
        "    # Use regular expression to match N-lettered words\n",
        "    pattern = r\"\\b\\w{\" + str(n) + r\"}\\b\"\n",
        "    matched_words = re.findall(pattern, sentence)\n",
        "\n",
        "    # Print the matched words\n",
        "    for word in matched_words:\n",
        "        print(word)\n",
        "\n",
        "# Main program\n",
        "if __name__ == '__main__':\n",
        "    # Read the input sentence and N\n",
        "    input_string = input(\"Enter the sentence: \")\n",
        "    n = int(input(\"Enter the value of N: \"))\n",
        "\n",
        "    # Call the function to find all N-lettered words in the sentence\n",
        "    find_n_lettered_words(input_string, n)\n"
      ],
      "metadata": {
        "id": "V7oMyBc2BT5R",
        "outputId": "d272ab85-e11a-4ddf-f3e5-6793e706ca11",
        "colab": {
          "base_uri": "https://localhost:8080/"
        }
      },
      "execution_count": 31,
      "outputs": [
        {
          "name": "stdout",
          "output_type": "stream",
          "text": [
            "Enter the sentence: jgdikudg nhasavdjqhg mnwnedjh2wj mjeJWGFIJ\n",
            "Enter the value of N: 1\n"
          ]
        }
      ]
    },
    {
      "cell_type": "code",
      "source": [
        "# Function to perform sum and multiplication on a list of numbers\n",
        "def perform_operations(numbers):\n",
        "    # Calculate the sum of the numbers\n",
        "    sum_result = sum(numbers)\n",
        "\n",
        "    # Calculate the product of the numbers\n",
        "    product_result = 1\n",
        "    for num in numbers:\n",
        "        product_result *= num\n",
        "\n",
        "    return sum_result, product_result\n",
        "\n",
        "# Main program\n",
        "if __name__ == '__main__':\n",
        "    # Read the number of elements in the list\n",
        "    N = int(input())\n",
        "\n",
        "    # Read the elements of the list\n",
        "    numbers = []\n",
        "    for _ in range(N):\n",
        "        num = int(input())\n",
        "        numbers.append(num)\n",
        "\n",
        "    # Call the function to perform operations and get the results\n",
        "    sum_result, product_result = perform_operations(numbers)\n",
        "\n",
        "    # Print the sum and product results on separate lines\n",
        "    print(sum_result)\n",
        "    print(product_result)\n"
      ],
      "metadata": {
        "id": "l812ycY_D2po",
        "outputId": "01cc1307-4a69-4ba7-97ce-d7c3267b4e60",
        "colab": {
          "base_uri": "https://localhost:8080/"
        }
      },
      "execution_count": 36,
      "outputs": [
        {
          "output_type": "stream",
          "name": "stdout",
          "text": [
            "2\n",
            "2\n",
            "4\n",
            "6\n",
            "8\n"
          ]
        }
      ]
    },
    {
      "cell_type": "code",
      "source": [
        "SELECT Artistid, Name FROM Artist\n",
        "WHERE Artistid NOT IN (SELECT Artistid FROM Track WHERE Genreid IN (SELECT Genreid FROM Genre WHERE Name = 'Latin'))\n",
        "ORDER BY Artistid;\n"
      ],
      "metadata": {
        "id": "dDuDJ-66GjVR"
      },
      "execution_count": null,
      "outputs": []
    }
  ]
}